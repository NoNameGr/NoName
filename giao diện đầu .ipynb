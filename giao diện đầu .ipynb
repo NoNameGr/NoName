{
 "cells": [
  {
   "cell_type": "code",
   "execution_count": null,
   "metadata": {},
   "outputs": [],
   "source": [
    "from tkinter import *\n",
    "import pygame"
   ]
  },
  {
   "cell_type": "code",
   "execution_count": null,
   "metadata": {},
   "outputs": [],
   "source": [
    "def btnShow_click():\n",
    "    frm = Tk()\n",
    "    frm.title('Muc do choi')\n",
    "    \n",
    "    lbName1 = Label(frm, text='Muc do choi', font=('Arial', 14, \" bold\"), fg ='red' )\n",
    "    lbName1.pack()\n",
    "    btnShow3 = Button(frm, text='De', font=('Arial', 14), fg='green', bg='blue')\n",
    "    btnShow3.pack()\n",
    "    btnShow4 = Button(frm, text='Trung Binh', font=('Arial', 14), fg='green', bg='blue')\n",
    "    btnShow4.pack()\n",
    "    btnShow5 = Button(frm, text='Kho', font=('Arial', 14), fg='green', bg='blue')\n",
    "    btnShow5.pack()\n",
    "    \n",
    "def btnShow_click2(): \n",
    "    eng = Tk()\n",
    "    eng.title('Level')\n",
    "    \n",
    "    lbName2= Label(eng, text='Levels', font=('Arial', 14, \" bold\"), fg ='red' )\n",
    "    lbName2.pack()\n",
    "    btnShow6 = Button(eng, text='Easy', font=('Arial', 14), fg='green', bg='blue')\n",
    "    btnShow6.pack()\n",
    "    btnShow7 = Button(eng, text='Avarage', font=('Arial', 14), fg='green', bg='blue')\n",
    "    btnShow7.pack()\n",
    "    btnShow8 = Button(eng, text='Hard', font=('Arial', 14), fg='green', bg='blue')\n",
    "    btnShow8.pack()\n",
    "    \n",
    "\n",
    "\n",
    "win = Tk()\n",
    "win.title('Duoi hinh bat chu')\n",
    "\n",
    "\n",
    "lbName = Label(win, text='Duoi hinh bat chu', font=('Arial', 14, \" bold\"), fg ='red')\n",
    "lbName.pack()\n",
    "btnShow = Button(win, text='Tieng Viet', font=('Arial', 14), fg='green', bg='blue', command=btnShow_click)\n",
    "btnShow.pack()\n",
    "btnShow2 = Button(win, text='Tieng Anh', font=('Arial', 14), fg='green', bg='blue', command=btnShow_click2)\n",
    "btnShow2.pack()\n",
    "\n",
    "win.mainloop()"
   ]
  },
  {
   "cell_type": "code",
   "execution_count": null,
   "metadata": {},
   "outputs": [],
   "source": []
  }
 ],
 "metadata": {
  "kernelspec": {
   "display_name": "Python 3",
   "language": "python",
   "name": "python3"
  },
  "language_info": {
   "codemirror_mode": {
    "name": "ipython",
    "version": 3
   },
   "file_extension": ".py",
   "mimetype": "text/x-python",
   "name": "python",
   "nbconvert_exporter": "python",
   "pygments_lexer": "ipython3",
   "version": "3.7.4"
  }
 },
 "nbformat": 4,
 "nbformat_minor": 2
}
